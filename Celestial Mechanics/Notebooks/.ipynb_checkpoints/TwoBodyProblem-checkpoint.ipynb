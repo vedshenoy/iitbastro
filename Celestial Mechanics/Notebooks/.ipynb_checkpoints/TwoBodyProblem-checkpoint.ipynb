{
 "cells": [
  {
   "cell_type": "markdown",
   "metadata": {},
   "source": [
    "## The Two Body Problem Numerically"
   ]
  },
  {
   "cell_type": "markdown",
   "metadata": {},
   "source": [
    "We will solve the two body problem <br>\n",
    "$$\\ddot{\\bf{r}} = \\frac{GM}{r^2}\\hat{\\bf{r}}$$\n",
    "Where $\\bf{r}$ is the relative position of one body (called planet here) with respect to another body (called star here). M is the total mass of the system, and G is the gravitational constant (normalised to 1 in this program)"
   ]
  },
  {
   "cell_type": "code",
   "execution_count": null,
   "metadata": {},
   "outputs": [],
   "source": [
    "# Imports\n",
    "import numpy as np\n",
    "import matplotlib.pyplot as plt\n",
    "\n",
    "# gala has Leapfrog implemented in its integrator. Try using that instead of the slow Python for loop."
   ]
  },
  {
   "cell_type": "code",
   "execution_count": null,
   "metadata": {},
   "outputs": [],
   "source": [
    "G = 1"
   ]
  },
  {
   "cell_type": "code",
   "execution_count": null,
   "metadata": {},
   "outputs": [],
   "source": [
    "class pointParticle:\n",
    "    \"\"\"\n",
    "        Class to implement a point particle in 2D in a gravitationally interacting system. \n",
    "        Attributes are\n",
    "        Mass, Position and Velocity. Also derived are Linear Momentum and Kinetic Energy.\n",
    "        Given another body, we can calculate the force, acceleration and Potential Energy. \n",
    "    \"\"\"\n",
    "    def __init__(self, mass, position, velocity):\n",
    "        self._mass = mass\n",
    "        self._x, self._y = position\n",
    "        self._vx, self._vy = velocity\n",
    "        \n",
    "    @property\n",
    "    def mass(self):\n",
    "        return self._mass\n",
    "    \n",
    "    @property\n",
    "    def x(self):\n",
    "        return self._x\n",
    "    \n",
    "    @property\n",
    "    def y(self):\n",
    "        return self._y\n",
    "    \n",
    "    @property\n",
    "    def vx(self):\n",
    "        return self._vx\n",
    "    \n",
    "    @property\n",
    "    def vy(self):\n",
    "        return self._vy\n",
    "    \n",
    "    @property\n",
    "    def position(self):\n",
    "        return np.array([self._x, self._y])\n",
    "    \n",
    "    @property\n",
    "    def velocity(self):\n",
    "        return np.array([self._vx, self._vy])\n",
    "        \n",
    "    @property\n",
    "    def momentum(self):\n",
    "        return self.mass*self.velocity\n",
    "    \n",
    "    def distance(self, mass2):\n",
    "        return np.sqrt((self._x-mass2.x)**2 + (self._y-mass2.y)**2)\n",
    "    \n",
    "    def rel_position(self, mass2):\n",
    "        return np.array([mass2.x - self._x, mass2.y - self._y])\n",
    "    \n",
    "    def rel_velocity(self, mass2):\n",
    "        return np.array([mass2.vx - self._vx, mass2.vy - self._vy])\n",
    "    \n",
    "    def grav_force(self, mass2):\n",
    "        return G*self.mass*mass2.mass/(self.distance(mass2))**3*self.rel_position(mass2)\n",
    "    \n",
    "    def acceleration(self, mass2):\n",
    "        return self.grav_force(mass2)/self.mass\n",
    "    \n",
    "    def update_pos(self, position):\n",
    "        self._x, self._y = position\n",
    "        \n",
    "    def update_vel(self, velocity):\n",
    "        self._vx, self._vy = velocity\n",
    "        \n",
    "    def potential_energy(self, mass2):\n",
    "        return -G*self.mass*mass2.mass/self.distance(mass2)\n",
    "    \n",
    "    def kinetic_energy(self):\n",
    "        return 1/2*self.mass*np.linalg.norm(self.velocity)**2\n",
    "    \n",
    "    # Old relic, useful if you use scipy's standard ODE solvers\n",
    "#     @property\n",
    "#     def fourpos(self):\n",
    "#         return np.r_[self.position, self.velocity]\n",
    "    \n",
    "#     def fourvel(self, mass2):\n",
    "#         return np.r_[self.velocity, self.acceleration(mass2)]"
   ]
  },
  {
   "cell_type": "code",
   "execution_count": null,
   "metadata": {},
   "outputs": [],
   "source": [
    "# Define the time-resolution of the integration.\n",
    "dt = 0.0001\n",
    "\n",
    "# Time range of the integration\n",
    "time_range = np.arange(0,10,dt)"
   ]
  },
  {
   "cell_type": "code",
   "execution_count": null,
   "metadata": {},
   "outputs": [],
   "source": [
    "planet = pointParticle(0.0001, [1,0], [0,0.5])"
   ]
  },
  {
   "cell_type": "code",
   "execution_count": null,
   "metadata": {},
   "outputs": [],
   "source": [
    "star = pointParticle(1, [0,0], [0,0])"
   ]
  },
  {
   "cell_type": "code",
   "execution_count": null,
   "metadata": {},
   "outputs": [],
   "source": [
    "# # Euler Integration\n",
    "# x = [planet.position]\n",
    "# v = [planet.velocity]\n",
    "# E = [planet.kinetic_energy()+planet.potential_energy(star)]\n",
    "# for i in range(time_range.size):\n",
    "#     x_, v_ = x[-1]+v[-1]*dt, v[-1] + planet.acceleration(star)*dt\n",
    "#     x.append(x_)\n",
    "#     v.append(v_)\n",
    "#     planet.update_pos(x[-1])\n",
    "#     planet.update_vel(v[-1])\n",
    "#     E.append(planet.kinetic_energy()+planet.potential_energy(star))\n",
    "# pos = np.array(x)\n",
    "# vel = np.array(v)\n",
    "# energy = np.array(E)"
   ]
  },
  {
   "cell_type": "code",
   "execution_count": null,
   "metadata": {},
   "outputs": [],
   "source": [
    "x_star = [star.position]\n",
    "star.update_vel(star.velocity+star.acceleration(planet)*dt/2)\n",
    "v_star = [star.velocity]\n",
    "\n",
    "x_planet = [planet.position]\n",
    "planet.update_vel(planet.velocity+planet.acceleration(star)*dt/2)\n",
    "v_planet = [planet.velocity]\n",
    "\n",
    "linear_momentum = [planet.momentum+star.momentum]"
   ]
  },
  {
   "cell_type": "code",
   "execution_count": null,
   "metadata": {},
   "outputs": [],
   "source": [
    "for i in range(time_range.size):\n",
    "    v_planet.append(v_planet[-1] + planet.acceleration(star)*dt)\n",
    "    v_star.append(v_star[-1] + star.acceleration(planet)*dt)    \n",
    "    planet.update_vel(v_planet[-1])\n",
    "    star.update_vel(v_star[-1])\n",
    "    x_planet.append(x_planet[-1] + v_planet[-1]*dt)\n",
    "    x_star.append(x_star[-1] + v_star[-1]*dt)\n",
    "    planet.update_pos(x_planet[-1])\n",
    "    star.update_pos(x_star[-1])\n",
    "    linear_momentum.append(planet.momentum+star.momentum)\n",
    "    \n",
    "pos_planet = np.array(x_planet)\n",
    "vel_planet = np.array(v_planet)\n",
    "\n",
    "pos_star = np.array(x_star)\n",
    "vel_star = np.array(v_star)\n",
    "\n",
    "linear_momentum = np.linalg.norm(np.array(linear_momentum), axis=1)"
   ]
  },
  {
   "cell_type": "code",
   "execution_count": null,
   "metadata": {
    "scrolled": false
   },
   "outputs": [],
   "source": [
    "plt.figure(figsize=(6,6))\n",
    "plt.scatter(pos_planet[:,0], pos_planet[:,1], s=1, alpha=0.4)\n",
    "plt.scatter(pos_star[:,0], pos_star[:,1], s=20, alpha=0.4)"
   ]
  },
  {
   "cell_type": "code",
   "execution_count": null,
   "metadata": {},
   "outputs": [],
   "source": [
    "a = (pos_planet[:,0].max()-pos_planet[:,0].min())/2\n",
    "ae =(pos_planet[:,0].max()+pos_planet[:,0].min())/2 - pos_star[:,0].mean()\n",
    "e = ae/a\n",
    "b = (pos_planet[:,1].max() - pos_planet[:,1].min())/2"
   ]
  },
  {
   "cell_type": "code",
   "execution_count": null,
   "metadata": {},
   "outputs": [],
   "source": [
    "print('Semi-major axis = {:2.4f}\\nEccentricity = {:2.4f}'.format(a, e))"
   ]
  },
  {
   "cell_type": "code",
   "execution_count": null,
   "metadata": {},
   "outputs": [],
   "source": [
    "print(\"Theoretical Time Period = {:2.5f}\".format(2*np.pi*np.sqrt(a**3/(G*(planet.mass+star.mass)))))"
   ]
  },
  {
   "cell_type": "code",
   "execution_count": null,
   "metadata": {},
   "outputs": [],
   "source": [
    "energy_system = -G*planet.mass*star.mass/np.linalg.norm(pos_planet-pos_star, axis=1)+\\\n",
    "                0.5*planet.mass*np.linalg.norm(vel_planet, axis=1)**2 + \\\n",
    "                0.5*star.mass*np.linalg.norm(vel_star, axis=1)"
   ]
  },
  {
   "cell_type": "code",
   "execution_count": null,
   "metadata": {},
   "outputs": [],
   "source": [
    "# plt.plot(time_range, energy_planet[:-1])\n",
    "# plt.plot(time_range, energy_star[:-1])\n",
    "# plt.figure(figsize=(8,6))\n",
    "plt.plot(time_range, energy_system[:-1]);\n",
    "# plt.suptitle('Energy = {} +- {}\\nTimestep = {}% of orbital period'.format(energy_system.mean(), energy_system.std(), dt*2**0.5/np.pi*100))\n",
    "# plt.savefig('TestingLeapfrog.png')"
   ]
  },
  {
   "cell_type": "code",
   "execution_count": null,
   "metadata": {},
   "outputs": [],
   "source": [
    "np.where(np.abs(energy_system-energy_system[0])<0.000000002)"
   ]
  },
  {
   "cell_type": "code",
   "execution_count": null,
   "metadata": {},
   "outputs": [],
   "source": [
    "plt.plot((pos_planet-pos_star))"
   ]
  },
  {
   "cell_type": "markdown",
   "metadata": {},
   "source": [
    "Changing the initial conditions and the masses can result in many more possible orbits"
   ]
  }
 ],
 "metadata": {
  "kernelspec": {
   "display_name": "Python 3",
   "language": "python",
   "name": "python3"
  },
  "language_info": {
   "codemirror_mode": {
    "name": "ipython",
    "version": 3
   },
   "file_extension": ".py",
   "mimetype": "text/x-python",
   "name": "python",
   "nbconvert_exporter": "python",
   "pygments_lexer": "ipython3",
   "version": "3.6.8"
  }
 },
 "nbformat": 4,
 "nbformat_minor": 2
}
