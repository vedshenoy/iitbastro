{
 "cells": [
  {
   "cell_type": "code",
   "execution_count": 1,
   "metadata": {},
   "outputs": [],
   "source": [
    "import numpy as np\n",
    "import matplotlib.pyplot as plt"
   ]
  },
  {
   "cell_type": "code",
   "execution_count": 32,
   "metadata": {},
   "outputs": [
    {
     "name": "stdout",
     "output_type": "stream",
     "text": [
      "Mass of Star = 1 [mass units]\n",
      "Mass of Planet = 0.001 [mass units]\n"
     ]
    }
   ],
   "source": [
    "M1 = 1\n",
    "M2 = 1e-3\n",
    "R = 1\n",
    "G = 1\n",
    "r1 = -M2*R/(M1+M2)\n",
    "r2 = M1*R/(M1+M2)\n",
    "print(f'Mass of Star = {M1} [mass units]')\n",
    "print(f'Mass of Planet = {M2} [mass units]')"
   ]
  },
  {
   "cell_type": "code",
   "execution_count": 33,
   "metadata": {},
   "outputs": [
    {
     "name": "stdout",
     "output_type": "stream",
     "text": [
      "Time period of revolution = 6.280 [time units]\n"
     ]
    }
   ],
   "source": [
    "T = np.sqrt(4*np.pi**2/(G*(M1 + M2))*R**3)\n",
    "omega = 2*np.pi/T\n",
    "print(f'Time period of revolution = {T:2.3f} [time units]')"
   ]
  },
  {
   "cell_type": "markdown",
   "metadata": {},
   "source": [
    "We consider only 2 dimensions"
   ]
  },
  {
   "cell_type": "code",
   "execution_count": 39,
   "metadata": {},
   "outputs": [],
   "source": [
    "def accel(pos, vel):\n",
    "    position = np.array(pos); velocity = np.array(vel)\n",
    "    a1 = -G*M1*(position-np.array([r1,0]))/np.linalg.norm(position-np.array([r1,0]))**3\n",
    "    a2 = -G*M2*(position-np.array([r2,0]))/np.linalg.norm(position-np.array([r2,0]))**3\n",
    "    a_centrifugal = 0#omega**2*position\n",
    "    a_coriolis = -2*np.cross([0,0,omega], np.append(velocity,0))\n",
    "    return a1,a2,a_centrifugal,a_coriolis[:-1]"
   ]
  },
  {
   "cell_type": "code",
   "execution_count": 37,
   "metadata": {},
   "outputs": [],
   "source": [
    "x_range = np.arange(-1,1,0.001)\n",
    "f = []\n",
    "for i in x_range:\n",
    "    f.append(np.sum(force([i,0],[0,0]), axis=0))\n",
    "f = np.array(f)"
   ]
  },
  {
   "cell_type": "code",
   "execution_count": 38,
   "metadata": {
    "scrolled": true
   },
   "outputs": [
    {
     "data": {
      "text/plain": [
       "(-100, 100)"
      ]
     },
     "execution_count": 38,
     "metadata": {},
     "output_type": "execute_result"
    },
    {
     "data": {
      "image/png": "[encoded data removed]",
      "text/plain": [
       "<Figure size 432x288 with 1 Axes>"
      ]
     },
     "metadata": {
      "needs_background": "light"
     },
     "output_type": "display_data"
    }
   ],
   "source": [
    "plt.plot(x_range, f[:,0])\n",
    "plt.ylim(-100,100)"
   ]
  },
  {
   "cell_type": "code",
   "execution_count": null,
   "metadata": {},
   "outputs": [],
   "source": []
  }
 ],
 "metadata": {
  "kernelspec": {
   "display_name": "Python 3",
   "language": "python",
   "name": "python3"
  },
  "language_info": {
   "codemirror_mode": {
    "name": "ipython",
    "version": 3
   },
   "file_extension": ".py",
   "mimetype": "text/x-python",
   "name": "python",
   "nbconvert_exporter": "python",
   "pygments_lexer": "ipython3",
   "version": "3.6.8"
  }
 },
 "nbformat": 4,
 "nbformat_minor": 2
}
